{
 "cells": [
  {
   "attachments": {},
   "cell_type": "markdown",
   "metadata": {},
   "source": [
    "# News Scraping"
   ]
  },
  {
   "cell_type": "code",
   "execution_count": 1,
   "metadata": {},
   "outputs": [],
   "source": [
    "from datetime import date, timedelta\n",
    "\n",
    "import sys\n",
    "sys.path.append('../')\n",
    "from newscrape.config import CONFIG; CONFIG.load('../config.toml')\n",
    "from newscrape.db import NewsDBClient\n",
    "from newscrape.webdriver import WebDriver\n",
    "from newscrape.headline import NewsHeadlinePicker\n",
    "from newscrape.scraper import NewsScraper"
   ]
  },
  {
   "attachments": {},
   "cell_type": "markdown",
   "metadata": {},
   "source": [
    "Create a scraper:"
   ]
  },
  {
   "cell_type": "code",
   "execution_count": 2,
   "metadata": {},
   "outputs": [
    {
     "data": {
      "text/plain": [
       "<newscrape.scraper.NewsScraper at 0x11848f410>"
      ]
     },
     "execution_count": 2,
     "metadata": {},
     "output_type": "execute_result"
    }
   ],
   "source": [
    "scraper = NewsScraper(\n",
    "    db_client=NewsDBClient.from_host_and_port(\n",
    "        database_name=CONFIG.MONGODB_DATABASE_NAME,\n",
    "        host=CONFIG.MONGODB_HOST,\n",
    "        port=CONFIG.MONGODB_PORT\n",
    "    ),\n",
    "    web_driver=WebDriver.on_port(8080),\n",
    "    headline_picker=NewsHeadlinePicker()\n",
    ")\n",
    "\n",
    "today = date.today()\n",
    "\n",
    "scraper"
   ]
  },
  {
   "attachments": {},
   "cell_type": "markdown",
   "metadata": {},
   "source": [
    "Scrape news:"
   ]
  },
  {
   "cell_type": "code",
   "execution_count": 3,
   "metadata": {},
   "outputs": [],
   "source": [
    "scraper.scrape_news(\n",
    "    query='Pwc aspen digital report',\n",
    "    date_start=today - timedelta(days=5),\n",
    "    date_end=today,\n",
    "    language='en'\n",
    ")\n",
    "\n",
    "scraper.scrape_news(\n",
    "    query='Pwc digital asset custody report',\n",
    "    date_start=today - timedelta(days=5),\n",
    "    date_end=today,\n",
    "    language='en'\n",
    ")\n",
    "\n",
    "scraper.scrape_news(\n",
    "    query='Pwc aspen digital',\n",
    "    date_start=today - timedelta(days=5),\n",
    "    date_end=today,\n",
    "    language='en'\n",
    ")"
   ]
  },
  {
   "cell_type": "code",
   "execution_count": 4,
   "metadata": {},
   "outputs": [],
   "source": [
    "scraper.scrape_news(\n",
    "    query='羅兵咸永道 aspen digital',\n",
    "    date_start=today - timedelta(days=5),\n",
    "    date_end=today,\n",
    "    language='zh'\n",
    ")\n",
    "\n",
    "scraper.scrape_news(\n",
    "    query='羅兵咸永道 數字資產託管狀況報告',\n",
    "    date_start=today - timedelta(days=5),\n",
    "    date_end=today,\n",
    "    language='zh'\n",
    ")"
   ]
  },
  {
   "cell_type": "code",
   "execution_count": null,
   "metadata": {},
   "outputs": [],
   "source": []
  }
 ],
 "metadata": {
  "kernelspec": {
   "display_name": "base",
   "language": "python",
   "name": "python3"
  },
  "language_info": {
   "codemirror_mode": {
    "name": "ipython",
    "version": 3
   },
   "file_extension": ".py",
   "mimetype": "text/x-python",
   "name": "python",
   "nbconvert_exporter": "python",
   "pygments_lexer": "ipython3",
   "version": "3.11.3"
  },
  "orig_nbformat": 4
 },
 "nbformat": 4,
 "nbformat_minor": 2
}
