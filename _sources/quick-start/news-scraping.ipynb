{
 "cells": [
  {
   "attachments": {},
   "cell_type": "markdown",
   "metadata": {},
   "source": [
    "# News Scraping"
   ]
  },
  {
   "cell_type": "code",
   "execution_count": 1,
   "metadata": {},
   "outputs": [],
   "source": [
    "# add path to the system so that my package can be found\n",
    "import sys\n",
    "sys.path.append('../../')\n",
    "\n",
    "# import my package\n",
    "from newscrape.config import CONFIG; CONFIG.load('../../config.toml')\n",
    "from newscrape.db import NewsDBClient\n",
    "from newscrape.webdriver import WebDriver\n",
    "from newscrape.scraper.headline import NewsHeadlinePicker\n",
    "from newscrape.scraper import NewsScraper"
   ]
  },
  {
   "attachments": {},
   "cell_type": "markdown",
   "metadata": {},
   "source": [
    "## Create a News Scraper"
   ]
  },
  {
   "cell_type": "code",
   "execution_count": 2,
   "metadata": {},
   "outputs": [],
   "source": [
    "scraper = NewsScraper(\n",
    "    db_client=NewsDBClient.from_host_and_port(\n",
    "        database_name=CONFIG.MONGODB_DATABASE_NAME,\n",
    "        host=CONFIG.MONGODB_HOST,\n",
    "        port=CONFIG.MONGODB_PORT,\n",
    "    ),\n",
    "    web_driver=WebDriver.on_port(0),\n",
    "    headline_picker=NewsHeadlinePicker(),\n",
    "    n_workers=10\n",
    ")"
   ]
  },
  {
   "attachments": {},
   "cell_type": "markdown",
   "metadata": {},
   "source": [
    "We need the following parameters to initialize a news scraper:\n",
    "- `db_client`: A MongoDB client that handles the news documents in the database.\n",
    "- `web_driver`: A Chrome web driver running at the background. It will help us to access some websites when a simple GET request fails.\n",
    "- `headline_picker`: The news headline is usually wrapped into a `h1` HTML tag. The problem is that, in practice, some websites may have multiple `h1` tags, which may contain texts other than the headline. Hence, we need to pick the correct one. In order to complete this task automatically, the headline picker is powered by GPT.\n",
    "- `n_workers`: Maximum number of workers in a thread pool. The pool executor will send request concurrently to save our time."
   ]
  },
  {
   "attachments": {},
   "cell_type": "markdown",
   "metadata": {},
   "source": [
    "## Scrape News"
   ]
  },
  {
   "attachments": {},
   "cell_type": "markdown",
   "metadata": {},
   "source": [
    "The goal is to scrape news in recent days, and then store them in MongoDB."
   ]
  },
  {
   "attachments": {},
   "cell_type": "markdown",
   "metadata": {},
   "source": [
    "Get the current date:"
   ]
  },
  {
   "cell_type": "code",
   "execution_count": 3,
   "metadata": {},
   "outputs": [
    {
     "data": {
      "text/plain": [
       "datetime.date(2023, 7, 14)"
      ]
     },
     "execution_count": 3,
     "metadata": {},
     "output_type": "execute_result"
    }
   ],
   "source": [
    "from datetime import date, timedelta\n",
    "\n",
    "today = date.today()\n",
    "today"
   ]
  },
  {
   "attachments": {},
   "cell_type": "markdown",
   "metadata": {},
   "source": [
    "For example, suppose you want to \n",
    "- search for news related to the query `'Pwc aspen digital report'`,\n",
    "- in the past `3` days, and\n",
    "- all results should be in English,\n",
    "\n",
    "then "
   ]
  },
  {
   "cell_type": "code",
   "execution_count": 4,
   "metadata": {},
   "outputs": [],
   "source": [
    "scraper.scrape_news(\n",
    "    query='Pwc aspen digital report',\n",
    "    date_start=today - timedelta(days=2),\n",
    "    date_end=today,\n",
    "    language='en'\n",
    ")"
   ]
  },
  {
   "attachments": {},
   "cell_type": "markdown",
   "metadata": {},
   "source": [
    "The following are more examples:"
   ]
  },
  {
   "cell_type": "code",
   "execution_count": 5,
   "metadata": {},
   "outputs": [],
   "source": [
    "scraper.scrape_news(\n",
    "    query='Pwc digital asset custody report',\n",
    "    date_start=today - timedelta(days=5),\n",
    "    date_end=today,\n",
    "    language='en'\n",
    ")\n",
    "\n",
    "scraper.scrape_news(\n",
    "    query='Pwc aspen digital',\n",
    "    date_start=today - timedelta(days=5),\n",
    "    date_end=today,\n",
    "    language='en'\n",
    ")\n",
    "\n",
    "scraper.scrape_news(\n",
    "    query='羅兵咸永道 aspen digital',\n",
    "    date_start=today - timedelta(days=5),\n",
    "    date_end=today,\n",
    "    language='zh'\n",
    ")\n",
    "\n",
    "scraper.scrape_news(\n",
    "    query='羅兵咸永道 數字資產託管狀況報告',\n",
    "    date_start=today - timedelta(days=5),\n",
    "    date_end=today,\n",
    "    language='zh'\n",
    ")"
   ]
  },
  {
   "attachments": {},
   "cell_type": "markdown",
   "metadata": {},
   "source": [
    "## Fetch Documents From MongoDB"
   ]
  },
  {
   "attachments": {},
   "cell_type": "markdown",
   "metadata": {},
   "source": [
    "Get the database client from the scraper instance:"
   ]
  },
  {
   "cell_type": "code",
   "execution_count": 6,
   "metadata": {},
   "outputs": [],
   "source": [
    "db_client = scraper.db_client"
   ]
  },
  {
   "attachments": {},
   "cell_type": "markdown",
   "metadata": {},
   "source": [
    "You may want to fetch all newly inserted news in the past several hours:"
   ]
  },
  {
   "cell_type": "code",
   "execution_count": 10,
   "metadata": {},
   "outputs": [
    {
     "data": {
      "text/plain": [
       "[{'date': '2023-07-11',\n",
       "  'publication': 'Yahoo Finance',\n",
       "  'headline': 'Asian Institutional Investors Look for Third Party Custody Solutions to Navigate Digital Asset Ecosystem, Find The PwC Aspen State of Digital Asset Custody Report',\n",
       "  'link': 'https://finance.yahoo.com/news/asian-institutional-investors-look-third-123900424.html'},\n",
       " {'date': '2023-07-11',\n",
       "  'publication': 'finews.asia',\n",
       "  'headline': 'PwC: Better Custody Key to Institutional Crypto Adoption',\n",
       "  'link': 'https://www.finews.asia/finance/39663-pwc-custody-key-to-institutional-crypto-adoption'},\n",
       " {'date': '2023-07-11',\n",
       "  'publication': 'The Asset',\n",
       "  'headline': 'Custody key to institutions picking digital assets',\n",
       "  'link': 'https://www.theasset.com/article/49566/custody-key-to-institutions-picking-digital-assets'},\n",
       " {'date': '2023-07-11',\n",
       "  'publication': 'Cointelegraph',\n",
       "  'headline': 'Report: China to tighten rules around releasing generative AI tools',\n",
       "  'link': 'https://cointelegraph.com/news/china-to-require-generative-ai-tools-to-obtain-license'},\n",
       " {'date': '2023-07-12',\n",
       "  'publication': 'South China Morning Post',\n",
       "  'headline': 'Hedge funds retreat from crypto after 2022 FTX scandal, PwC survey finds',\n",
       "  'link': 'https://www.scmp.com/tech/tech-trends/article/3227451/hedge-funds-retreat-cryptocurrencies-after-2022-ftx-scandal-us-regulatory-crackdown-pwc-survey'},\n",
       " {'date': '2023-07-12',\n",
       "  'publication': 'Cointelegraph',\n",
       "  'headline': 'Google Play Store officially allows NFT games, but not gambling ones',\n",
       "  'link': 'https://cointelegraph.com/news/google-play-store-officially-allows-nft-games-but-not-gambling'},\n",
       " {'date': '2023-07-11',\n",
       "  'publication': 'Cointelegraph',\n",
       "  'headline': 'Crypto custody market reached $448 billion in 2022: Report',\n",
       "  'link': 'https://cointelegraph.com/news/crypto-report-the-crypto-custody-market-reached-448-billion-in-2022'},\n",
       " {'date': '2023-07-12',\n",
       "  'publication': '新浪财经',\n",
       "  'headline': '普华永道：82%高管寻求第三方托管加密资产愿意整合元宇宙',\n",
       "  'link': 'https://finance.sina.com.cn/stock/hkstock/marketalerts/2023-07-12/doc-imzamnvv5551880.shtml'},\n",
       " {'date': '2023-07-11',\n",
       "  'publication': '英为财情',\n",
       "  'headline': '报告：数字资产行业已发展为价值1.2万亿美元市场',\n",
       "  'link': 'https://cn.investing.com/news/stock-market-news/article-2219323'},\n",
       " {'date': '2023-07-12',\n",
       "  'publication': '股票',\n",
       "  'headline': '豪鹏科技: 世纪证券有限责任公司关于深圳市豪鹏科技股份有限公司向不特定对象发行可转换公司债券之上市保荐书（上会稿）',\n",
       "  'link': 'https://stock.stockstar.com/notice/SN2023071300016626.shtml'}]"
      ]
     },
     "execution_count": 10,
     "metadata": {},
     "output_type": "execute_result"
    }
   ],
   "source": [
    "from newscrape.schema.news import FIELDS_OF_INTEREST\n",
    "\n",
    "news_list = db_client.find_news_inserted_in_past_n_hours(\n",
    "    \n",
    "    # newly inserted news in the past 12 hours\n",
    "    hours=12,\n",
    "    \n",
    "    # only the following fields are of interest\n",
    "    fields=FIELDS_OF_INTEREST\n",
    "    \n",
    ")\n",
    "\n",
    "news_list"
   ]
  },
  {
   "attachments": {},
   "cell_type": "markdown",
   "metadata": {},
   "source": [
    "Convert the fetched news documents to a Pandas data frame:"
   ]
  },
  {
   "cell_type": "code",
   "execution_count": 11,
   "metadata": {},
   "outputs": [
    {
     "data": {
      "text/html": [
       "<div>\n",
       "<style scoped>\n",
       "    .dataframe tbody tr th:only-of-type {\n",
       "        vertical-align: middle;\n",
       "    }\n",
       "\n",
       "    .dataframe tbody tr th {\n",
       "        vertical-align: top;\n",
       "    }\n",
       "\n",
       "    .dataframe thead th {\n",
       "        text-align: right;\n",
       "    }\n",
       "</style>\n",
       "<table border=\"1\" class=\"dataframe\">\n",
       "  <thead>\n",
       "    <tr style=\"text-align: right;\">\n",
       "      <th></th>\n",
       "      <th>date</th>\n",
       "      <th>publication</th>\n",
       "      <th>headline</th>\n",
       "      <th>link</th>\n",
       "    </tr>\n",
       "  </thead>\n",
       "  <tbody>\n",
       "    <tr>\n",
       "      <th>0</th>\n",
       "      <td>2023-07-11</td>\n",
       "      <td>Yahoo Finance</td>\n",
       "      <td>Asian Institutional Investors Look for Third P...</td>\n",
       "      <td>https://finance.yahoo.com/news/asian-instituti...</td>\n",
       "    </tr>\n",
       "    <tr>\n",
       "      <th>1</th>\n",
       "      <td>2023-07-11</td>\n",
       "      <td>finews.asia</td>\n",
       "      <td>PwC: Better Custody Key to Institutional Crypt...</td>\n",
       "      <td>https://www.finews.asia/finance/39663-pwc-cust...</td>\n",
       "    </tr>\n",
       "    <tr>\n",
       "      <th>2</th>\n",
       "      <td>2023-07-11</td>\n",
       "      <td>The Asset</td>\n",
       "      <td>Custody key to institutions picking digital as...</td>\n",
       "      <td>https://www.theasset.com/article/49566/custody...</td>\n",
       "    </tr>\n",
       "    <tr>\n",
       "      <th>3</th>\n",
       "      <td>2023-07-11</td>\n",
       "      <td>Cointelegraph</td>\n",
       "      <td>Report: China to tighten rules around releasin...</td>\n",
       "      <td>https://cointelegraph.com/news/china-to-requir...</td>\n",
       "    </tr>\n",
       "    <tr>\n",
       "      <th>4</th>\n",
       "      <td>2023-07-12</td>\n",
       "      <td>South China Morning Post</td>\n",
       "      <td>Hedge funds retreat from crypto after 2022 FTX...</td>\n",
       "      <td>https://www.scmp.com/tech/tech-trends/article/...</td>\n",
       "    </tr>\n",
       "    <tr>\n",
       "      <th>5</th>\n",
       "      <td>2023-07-12</td>\n",
       "      <td>Cointelegraph</td>\n",
       "      <td>Google Play Store officially allows NFT games,...</td>\n",
       "      <td>https://cointelegraph.com/news/google-play-sto...</td>\n",
       "    </tr>\n",
       "    <tr>\n",
       "      <th>6</th>\n",
       "      <td>2023-07-11</td>\n",
       "      <td>Cointelegraph</td>\n",
       "      <td>Crypto custody market reached $448 billion in ...</td>\n",
       "      <td>https://cointelegraph.com/news/crypto-report-t...</td>\n",
       "    </tr>\n",
       "    <tr>\n",
       "      <th>7</th>\n",
       "      <td>2023-07-12</td>\n",
       "      <td>新浪财经</td>\n",
       "      <td>普华永道：82%高管寻求第三方托管加密资产愿意整合元宇宙</td>\n",
       "      <td>https://finance.sina.com.cn/stock/hkstock/mark...</td>\n",
       "    </tr>\n",
       "    <tr>\n",
       "      <th>8</th>\n",
       "      <td>2023-07-11</td>\n",
       "      <td>英为财情</td>\n",
       "      <td>报告：数字资产行业已发展为价值1.2万亿美元市场</td>\n",
       "      <td>https://cn.investing.com/news/stock-market-new...</td>\n",
       "    </tr>\n",
       "    <tr>\n",
       "      <th>9</th>\n",
       "      <td>2023-07-12</td>\n",
       "      <td>股票</td>\n",
       "      <td>豪鹏科技: 世纪证券有限责任公司关于深圳市豪鹏科技股份有限公司向不特定对象发行可转换公司债券...</td>\n",
       "      <td>https://stock.stockstar.com/notice/SN202307130...</td>\n",
       "    </tr>\n",
       "  </tbody>\n",
       "</table>\n",
       "</div>"
      ],
      "text/plain": [
       "         date               publication  \\\n",
       "0  2023-07-11             Yahoo Finance   \n",
       "1  2023-07-11               finews.asia   \n",
       "2  2023-07-11                 The Asset   \n",
       "3  2023-07-11             Cointelegraph   \n",
       "4  2023-07-12  South China Morning Post   \n",
       "5  2023-07-12             Cointelegraph   \n",
       "6  2023-07-11             Cointelegraph   \n",
       "7  2023-07-12                      新浪财经   \n",
       "8  2023-07-11                      英为财情   \n",
       "9  2023-07-12                        股票   \n",
       "\n",
       "                                            headline  \\\n",
       "0  Asian Institutional Investors Look for Third P...   \n",
       "1  PwC: Better Custody Key to Institutional Crypt...   \n",
       "2  Custody key to institutions picking digital as...   \n",
       "3  Report: China to tighten rules around releasin...   \n",
       "4  Hedge funds retreat from crypto after 2022 FTX...   \n",
       "5  Google Play Store officially allows NFT games,...   \n",
       "6  Crypto custody market reached $448 billion in ...   \n",
       "7                       普华永道：82%高管寻求第三方托管加密资产愿意整合元宇宙   \n",
       "8                           报告：数字资产行业已发展为价值1.2万亿美元市场   \n",
       "9  豪鹏科技: 世纪证券有限责任公司关于深圳市豪鹏科技股份有限公司向不特定对象发行可转换公司债券...   \n",
       "\n",
       "                                                link  \n",
       "0  https://finance.yahoo.com/news/asian-instituti...  \n",
       "1  https://www.finews.asia/finance/39663-pwc-cust...  \n",
       "2  https://www.theasset.com/article/49566/custody...  \n",
       "3  https://cointelegraph.com/news/china-to-requir...  \n",
       "4  https://www.scmp.com/tech/tech-trends/article/...  \n",
       "5  https://cointelegraph.com/news/google-play-sto...  \n",
       "6  https://cointelegraph.com/news/crypto-report-t...  \n",
       "7  https://finance.sina.com.cn/stock/hkstock/mark...  \n",
       "8  https://cn.investing.com/news/stock-market-new...  \n",
       "9  https://stock.stockstar.com/notice/SN202307130...  "
      ]
     },
     "execution_count": 11,
     "metadata": {},
     "output_type": "execute_result"
    }
   ],
   "source": [
    "import pandas as pd\n",
    "\n",
    "df = pd.DataFrame(news_list)\n",
    "df"
   ]
  },
  {
   "attachments": {},
   "cell_type": "markdown",
   "metadata": {},
   "source": [
    "Finally, you want to write the above results into an Excel file:"
   ]
  },
  {
   "cell_type": "code",
   "execution_count": 13,
   "metadata": {},
   "outputs": [],
   "source": [
    "# path to the output Execel file\n",
    "excel_filepath = '../../out/news.xlsx'\n",
    "\n",
    "df.to_excel(excel_filepath, index=False)"
   ]
  }
 ],
 "metadata": {
  "kernelspec": {
   "display_name": "base",
   "language": "python",
   "name": "python3"
  },
  "language_info": {
   "codemirror_mode": {
    "name": "ipython",
    "version": 3
   },
   "file_extension": ".py",
   "mimetype": "text/x-python",
   "name": "python",
   "nbconvert_exporter": "python",
   "pygments_lexer": "ipython3",
   "version": "3.11.3"
  },
  "orig_nbformat": 4
 },
 "nbformat": 4,
 "nbformat_minor": 2
}
