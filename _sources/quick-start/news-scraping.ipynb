{
 "cells": [
  {
   "attachments": {},
   "cell_type": "markdown",
   "metadata": {},
   "source": [
    "# News Scraping"
   ]
  },
  {
   "cell_type": "code",
   "execution_count": 3,
   "metadata": {},
   "outputs": [],
   "source": [
    "from datetime import date, timedelta\n",
    "\n",
    "import sys\n",
    "sys.path.append('../../')\n",
    "from newscrape.config import CONFIG; CONFIG.load('../../config.toml')\n",
    "from newscrape.db import NewsDBClient\n",
    "from newscrape.webdriver import WebDriver\n",
    "from newscrape.scraper.headline import NewsHeadlinePicker\n",
    "from newscrape.scraper import NewsScraper"
   ]
  },
  {
   "attachments": {},
   "cell_type": "markdown",
   "metadata": {},
   "source": [
    "## Create a News Scraper"
   ]
  },
  {
   "cell_type": "code",
   "execution_count": 4,
   "metadata": {},
   "outputs": [],
   "source": [
    "scraper = NewsScraper(\n",
    "    db_client=NewsDBClient.from_host_and_port(\n",
    "        database_name=CONFIG.MONGODB_DATABASE_NAME,\n",
    "        host=CONFIG.MONGODB_HOST,\n",
    "        port=CONFIG.MONGODB_PORT,\n",
    "    ),\n",
    "    web_driver=WebDriver.on_port(0),\n",
    "    headline_picker=NewsHeadlinePicker(),\n",
    "    n_workers=10\n",
    ")"
   ]
  },
  {
   "attachments": {},
   "cell_type": "markdown",
   "metadata": {},
   "source": [
    "We need the following parameters to initialize a news scraper:\n",
    "- `db_client`: A MongoDB client that handles the news documents in the database.\n",
    "- `web_driver`: A Chrome web driver running at the background. It will help us to access some websites when a simple GET request fails.\n",
    "- `headline_picker`: The news headline is usually wrapped into a `h1` HTML tag. The problem is that, in practice, some websites may have multiple `h1` tags, which may contain texts other than the headline. Hence, we need to pick the correct one. In order to complete this task automatically, the headline picker is powered by GPT.\n",
    "- `n_workers`: Maximum number of works in a thread pool. The pool executor will send request concurrently to save our time."
   ]
  },
  {
   "attachments": {},
   "cell_type": "markdown",
   "metadata": {},
   "source": [
    "## Scrape News"
   ]
  },
  {
   "attachments": {},
   "cell_type": "markdown",
   "metadata": {},
   "source": [
    "The goal is to scrape news in recent days."
   ]
  },
  {
   "attachments": {},
   "cell_type": "markdown",
   "metadata": {},
   "source": [
    "Get the current date:"
   ]
  },
  {
   "cell_type": "code",
   "execution_count": 5,
   "metadata": {},
   "outputs": [
    {
     "data": {
      "text/plain": [
       "datetime.date(2023, 7, 14)"
      ]
     },
     "execution_count": 5,
     "metadata": {},
     "output_type": "execute_result"
    }
   ],
   "source": [
    "today = date.today()\n",
    "today"
   ]
  },
  {
   "attachments": {},
   "cell_type": "markdown",
   "metadata": {},
   "source": [
    "For example, suppose you want to \n",
    "- search for news related to the query `'Pwc aspen digital report'`,\n",
    "- in the past `3` days, and\n",
    "- all results should be in English,\n",
    "\n",
    "then "
   ]
  },
  {
   "cell_type": "code",
   "execution_count": 6,
   "metadata": {},
   "outputs": [],
   "source": [
    "scraper.scrape_news(\n",
    "    query='Pwc aspen digital report',\n",
    "    date_start=today - timedelta(days=2),\n",
    "    date_end=today,\n",
    "    language='en'\n",
    ")"
   ]
  },
  {
   "attachments": {},
   "cell_type": "markdown",
   "metadata": {},
   "source": [
    "The following are more examples:"
   ]
  },
  {
   "cell_type": "code",
   "execution_count": 7,
   "metadata": {},
   "outputs": [],
   "source": [
    "scraper.scrape_news(\n",
    "    query='Pwc digital asset custody report',\n",
    "    date_start=today - timedelta(days=5),\n",
    "    date_end=today,\n",
    "    language='en'\n",
    ")\n",
    "\n",
    "scraper.scrape_news(\n",
    "    query='Pwc aspen digital',\n",
    "    date_start=today - timedelta(days=5),\n",
    "    date_end=today,\n",
    "    language='en'\n",
    ")\n",
    "\n",
    "scraper.scrape_news(\n",
    "    query='羅兵咸永道 aspen digital',\n",
    "    date_start=today - timedelta(days=5),\n",
    "    date_end=today,\n",
    "    language='zh'\n",
    ")\n",
    "\n",
    "scraper.scrape_news(\n",
    "    query='羅兵咸永道 數字資產託管狀況報告',\n",
    "    date_start=today - timedelta(days=5),\n",
    "    date_end=today,\n",
    "    language='zh'\n",
    ")"
   ]
  },
  {
   "cell_type": "code",
   "execution_count": null,
   "metadata": {},
   "outputs": [],
   "source": []
  }
 ],
 "metadata": {
  "kernelspec": {
   "display_name": "base",
   "language": "python",
   "name": "python3"
  },
  "language_info": {
   "codemirror_mode": {
    "name": "ipython",
    "version": 3
   },
   "file_extension": ".py",
   "mimetype": "text/x-python",
   "name": "python",
   "nbconvert_exporter": "python",
   "pygments_lexer": "ipython3",
   "version": "3.11.3"
  },
  "orig_nbformat": 4
 },
 "nbformat": 4,
 "nbformat_minor": 2
}
